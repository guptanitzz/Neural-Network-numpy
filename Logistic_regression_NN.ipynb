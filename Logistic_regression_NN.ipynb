{
 "cells": [
  {
   "cell_type": "markdown",
   "metadata": {},
   "source": [
    "### This notebook implements basic building blocks of Neural Network with simple Logistic Regression example\n",
    "#### Dataset used here is taken from Kaggle Titanic set\n",
    "#### Data preprocessing is inspired from Kaggle kernel  (https://www.kaggle.com/gunesevitan/titanic-survival-nn-approach)\n",
    "* Block includes \n",
    "- initialize with zeros - initialize parameter W and b with zeros\n",
    "\n",
    "iterate in a loop for gradient descent computation\n",
    "- forward propagation - get Z and A; where Z= np.dot(W.T,X)+b and A is sigmoid(Z)\n",
    "- compute cost - log loss\n",
    "- backward propagation - get dZ, dW and db \n",
    "- update parameter - update W as W- alpha * dW and db as db- alpha * db where alpha is learning rate of gradient descent algo\n"
   ]
  },
  {
   "cell_type": "code",
   "execution_count": 1,
   "metadata": {},
   "outputs": [],
   "source": [
    "import numpy as np\n",
    "import pandas as pd\n",
    "import os\n",
    "from sklearn.model_selection import train_test_split\n",
    "import matplotlib.pyplot as plt\n",
    "from sklearn.preprocessing import LabelEncoder"
   ]
  },
  {
   "cell_type": "code",
   "execution_count": 2,
   "metadata": {},
   "outputs": [],
   "source": [
    "def sigmoid(x):\n",
    "    return (1/(1+np.exp(-x)))\n",
    "\n",
    "def grad_sigmoid(x):\n",
    "    return x*(1-x)\n",
    "\n",
    "def L1_loss(y,yhat):\n",
    "    return np.sum(np.abs(y-yhat))\n",
    "\n",
    "def L2_loss(y,yhat):\n",
    "    return np.sum(np.square(y-yhat))"
   ]
  },
  {
   "cell_type": "code",
   "execution_count": 3,
   "metadata": {},
   "outputs": [],
   "source": [
    "epsilon = 1e-5\n",
    "def initialize_with_zeros(dim):\n",
    "    W=np.zeros((dim,1))\n",
    "    b=0  \n",
    "#     print(W.shape,b.shape)\n",
    "    assert(W.shape == (dim, 1))\n",
    "    assert(isinstance(b, float) or isinstance(b, int))\n",
    "    return W,b\n",
    "\n",
    "def forward_propagation(W,X,b):\n",
    "    Z=np.dot(W.T,X)+b\n",
    "    A=sigmoid(Z)\n",
    "    return Z,A\n",
    "\n",
    "def backward_propagation(A,Y,X):\n",
    "    m=X.shape[1]     \n",
    "    cost=compute_cost(Y,A,m)\n",
    "    dZ=A-Y\n",
    "    dW=(1/m)*np.dot(X,dZ.T)\n",
    "    db=(1/m)*np.sum(dZ)\n",
    "#     print(db)\n",
    "    assert(db.dtype == float)\n",
    "    cost = np.squeeze(cost)\n",
    "    assert(cost.shape == ()) \n",
    "    grads = {\"dW\": dW,\n",
    "             \"db\": db}\n",
    "    return grads,cost\n",
    "    \n",
    "def compute_cost(Y,A,m):\n",
    "    cost=(- 1 / m) * np.sum(Y * np.log(A+epsilon) + (1 - Y) * (np.log(1 - A+epsilon))) \n",
    "    return cost\n",
    "    \n",
    "def update_params(W,b,grads,learning_rate):\n",
    "    dW = grads[\"dW\"]\n",
    "    db = grads[\"db\"]\n",
    "    W = W - learning_rate * dW  # need to broadcast\n",
    "    b = b - learning_rate * db\n",
    "    return W,b\n",
    "\n",
    "def optimize(W,b,X,Y,num_iterations,learning_rate):\n",
    "    costs=[]\n",
    "    for i in range(num_iterations):\n",
    "        Z,A=forward_propagation(W,X,b)\n",
    "        grads,cost=backward_propagation(A,Y,X)\n",
    "        W,b=update_params(W,b,grads,learning_rate)\n",
    "        costs.append(cost)\n",
    "        if i % 100 == 0:\n",
    "            costs.append(cost)\n",
    "    #final params dict\n",
    "    params = {\"W\": W,\n",
    "              \"b\": b}\n",
    "    return params,grads,costs\n",
    "\n",
    "def predict(W, b, X):\n",
    "    m = X.shape[1]\n",
    "    Y_prediction = np.zeros((1, m))\n",
    "    W = W.reshape(X.shape[0], 1)\n",
    "    A = sigmoid(np.dot(W.T, X) + b)\n",
    "    \n",
    "    for i in range(A.shape[1]):\n",
    "        Y_prediction[0, i] = 1 if A[0, i] > 0.5 else 0\n",
    "\n",
    "    assert(Y_prediction.shape == (1, m))\n",
    "    \n",
    "    return Y_prediction"
   ]
  },
  {
   "cell_type": "code",
   "execution_count": 4,
   "metadata": {},
   "outputs": [],
   "source": [
    "def model(X_train, Y_train, X_test, Y_test, num_iterations=5, learning_rate=0.5):\n",
    "    dim=X_train.shape[0]\n",
    "    W,b=initialize_with_zeros(dim)\n",
    "    params,grads,costs=optimize(W,b,X_train,Y_train,num_iterations,learning_rate)\n",
    "    W = params[\"W\"]\n",
    "    b = params[\"b\"]\n",
    "    \n",
    "    # Predict test/train set examples (≈ 2 lines of code)\n",
    "    Y_prediction_test = predict(W, b, X_test)\n",
    "    Y_prediction_train = predict(W, b, X_train)\n",
    "    \n",
    "    print(\"train accuracy: {} %\".format(100 - np.mean(np.abs(Y_prediction_train - Y_train)) * 100))\n",
    "    print(\"test accuracy: {} %\".format(100 - np.mean(np.abs(Y_prediction_test - Y_test)) * 100))\n",
    "\n",
    "    \n",
    "    d = {\"costs\": costs,\n",
    "         \"W\" : W, \n",
    "         \"b\" : b,\n",
    "         \"learning_rate\" : learning_rate,\n",
    "         \"num_iterations\": num_iterations}\n",
    "    \n",
    "    return d\n",
    "    \n",
    "        \n"
   ]
  },
  {
   "cell_type": "code",
   "execution_count": 5,
   "metadata": {},
   "outputs": [
    {
     "name": "stdout",
     "output_type": "stream",
     "text": [
      "Index(['Survived', 'Pclass', 'Name', 'Sex', 'Age', 'SibSp', 'Parch', 'Fare',\n",
      "       'Embarked'],\n",
      "      dtype='object')\n",
      "Index(['Pclass', 'Name', 'Sex', 'Age', 'SibSp', 'Parch', 'Fare', 'Embarked'], dtype='object')\n"
     ]
    },
    {
     "name": "stderr",
     "output_type": "stream",
     "text": [
      "C:\\Users\\Nitika Gupta\\Anaconda3\\lib\\site-packages\\pandas\\core\\indexing.py:189: SettingWithCopyWarning: \n",
      "A value is trying to be set on a copy of a slice from a DataFrame\n",
      "\n",
      "See the caveats in the documentation: http://pandas.pydata.org/pandas-docs/stable/indexing.html#indexing-view-versus-copy\n",
      "  self._setitem_with_indexer(indexer, value)\n"
     ]
    }
   ],
   "source": [
    "project='titanic'\n",
    "datapath = os.path.join('D:','\\Learning','General','data',project)\n",
    "df_train_orig = pd.read_csv(os.path.join(datapath+'/train.csv'))\n",
    "df_test_orig = pd.read_csv(os.path.join(datapath+'/test.csv'))\n",
    "\n",
    "df_train = df_train_orig.copy(deep=True)\n",
    "df_train.name = 'Training set'\n",
    "df_test = df_test_orig.copy(deep=True)\n",
    "df_test.name = 'Test set'\n",
    "for df in [df_train, df_test]:    \n",
    "    df['Age'].fillna(df['Age'].median(), inplace=True)\n",
    "    df['Embarked'].fillna(df['Embarked'].mode()[0], inplace=True)\n",
    "    df['Fare'].fillna(df['Fare'].median(), inplace=True)\n",
    "    \n",
    "df_train.drop(['PassengerId','Ticket', 'Cabin'], axis=1, inplace=True)\n",
    "df_test.drop(['PassengerId', 'Ticket', 'Cabin'], axis=1, inplace=True)\n",
    "\n",
    "print(df_train.columns)\n",
    "print(df_test.columns)\n",
    "for df in [df_train, df_test]:    \n",
    "    df['Family_Members'] = df['SibSp'] + df['Parch'] + 1\n",
    "    \n",
    "    df['Is_Alone'] = 1\n",
    "    df['Is_Alone'].loc[df['Family_Members'] > 1] = 0\n",
    "    \n",
    "    df['Title'] = df['Name'].str.split(\", \", expand=True)[1].str.split(\".\", expand=True)[0]\n",
    "train_title_names = (df_train['Title'].value_counts() < 10)\n",
    "df_train['Title'] = df_train['Title'].apply(lambda x: 'Other' if train_title_names.loc[x] == True else x)\n",
    "test_title_names = (df_test['Title'].value_counts() < 10)\n",
    "df_test['Title'] = df_test['Title'].apply(lambda x: 'Other' if test_title_names.loc[x] == True else x)\n",
    "le = LabelEncoder()\n",
    "for df in [df_train, df_test]:\n",
    "    df['Pclass'] = le.fit_transform(df['Pclass'])\n",
    "    df['Sex'] = le.fit_transform(df['Sex'])\n",
    "    df['Embarked'] = le.fit_transform(df['Embarked'])\n",
    "    df['Title'] = le.fit_transform(df['Title'])\n",
    "df_train_dummy = pd.concat([df_train, pd.get_dummies(df_train['Pclass'])], axis=1)\n",
    "df_train_dummy = pd.concat([df_train_dummy, pd.get_dummies(df_train['Sex'])], axis=1)\n",
    "df_train_dummy = pd.concat([df_train_dummy, pd.get_dummies(df_train['Embarked'])], axis=1)\n",
    "df_train_dummy = pd.concat([df_train_dummy, pd.get_dummies(df_train['Title'])], axis=1)\n",
    "\n",
    "df_train_dummy.drop(columns=['Pclass', 'Sex', 'Embarked', 'Title', 'Name'], inplace=True)\n",
    "df_train_dummy.columns = ('Survived', 'Age', 'SibSp', 'Parch', 'Fare', 'Family_Members', 'Is_Alone',\n",
    "                         'Pclass_1', 'Pclass_2', 'Pclass_3', 'Female', 'Male', 'Embarked_C', 'Embarked_Q', 'Embarked_S',\n",
    "                         'Title_Master', 'Title_Miss', 'Title_Mr', 'Title_Mrs', 'Title_Other',)\n",
    "df_test_dummy = pd.concat([df_test, pd.get_dummies(df_test['Pclass'])], axis=1)\n",
    "df_test_dummy = pd.concat([df_test_dummy, pd.get_dummies(df_test['Sex'])], axis=1)\n",
    "df_test_dummy = pd.concat([df_test_dummy, pd.get_dummies(df_test['Embarked'])], axis=1)\n",
    "df_test_dummy = pd.concat([df_test_dummy, pd.get_dummies(df_test['Title'])], axis=1)\n",
    "\n",
    "df_test_dummy.drop(columns=['Pclass', 'Sex', 'Embarked', 'Title', 'Name'], inplace=True)\n",
    "df_test_dummy.columns = ('Age', 'SibSp', 'Parch', 'Fare', 'Family_Members', 'Is_Alone',\n",
    "                         'Pclass_1', 'Pclass_2', 'Pclass_3', 'Female', 'Male', 'Embarked_C', 'Embarked_Q', 'Embarked_S',\n",
    "                         'Title_Master', 'Title_Miss', 'Title_Mr', 'Title_Mrs', 'Title_Other',)\n",
    "for df in [df_train_dummy, df_test_dummy]:\n",
    "    df['SibSp'] = (df['SibSp'] - df['SibSp'].mean()) / df['SibSp'].std()\n",
    "    df['Parch'] = (df['Parch'] - df['Parch'].mean()) / df['Parch'].std()\n",
    "    df['Family_Members'] = (df['Family_Members'] - df['Family_Members'].mean()) / df['Family_Members'].std()\n",
    "    df['Age'] = (df['Age'] - df['Age'].mean()) / df['Age'].std()\n",
    "    df['Fare'] = (df['Fare'] - df['Fare'].mean()) / df['Fare'].std()\n",
    "X_train_t = df_train_dummy.drop(['Survived'], axis=1)\n",
    "Y_train_t = df_train_dummy['Survived']"
   ]
  },
  {
   "cell_type": "code",
   "execution_count": 8,
   "metadata": {},
   "outputs": [
    {
     "name": "stdout",
     "output_type": "stream",
     "text": [
      "(712, 19)\n",
      "(712,)\n"
     ]
    }
   ],
   "source": [
    "X_train, X_test, y_train, y_test = train_test_split(X_train_t, Y_train_t, test_size=0.2)\n",
    "print(X_train.shape)\n",
    "print(y_train.shape)"
   ]
  },
  {
   "cell_type": "code",
   "execution_count": 13,
   "metadata": {},
   "outputs": [
    {
     "name": "stdout",
     "output_type": "stream",
     "text": [
      "train accuracy: 84.5505617977528 %\n",
      "test accuracy: 78.2122905027933 %\n"
     ]
    }
   ],
   "source": [
    "train_set_x=X_train.T.values\n",
    "train_set_y=y_train.values.reshape(y_train.shape[0],1).T\n",
    "test_set_x=X_test.T.values\n",
    "test_set_y=y_test.values.reshape(y_test.shape[0],1).T\n",
    "d = model(train_set_x, train_set_y, test_set_x, test_set_y, num_iterations = 500, learning_rate = 0.5)\n",
    "# print(d)"
   ]
  },
  {
   "cell_type": "code",
   "execution_count": 14,
   "metadata": {},
   "outputs": [
    {
     "data": {
      "image/png": "[encoded data removed]",
      "text/plain": [
       "<Figure size 432x288 with 1 Axes>"
      ]
     },
     "metadata": {
      "needs_background": "light"
     },
     "output_type": "display_data"
    }
   ],
   "source": [
    "# Plot learning curve (with costs)\n",
    "costs = np.squeeze(d['costs'])\n",
    "# print(costs)\n",
    "plt.plot(costs)\n",
    "plt.ylabel('cost')\n",
    "plt.xlabel('iterations (per hundreds)')\n",
    "plt.title(\"Learning rate =\" + str(d[\"learning_rate\"]))\n",
    "plt.show()"
   ]
  },
  {
   "cell_type": "code",
   "execution_count": 18,
   "metadata": {},
   "outputs": [
    {
     "data": {
      "text/plain": [
       "(1, 418)"
      ]
     },
     "execution_count": 18,
     "metadata": {},
     "output_type": "execute_result"
    }
   ],
   "source": [
    "Y_hat = predict(d['W'], d['b'], df_test_dummy.values.T)\n",
    "Y_hat.shape"
   ]
  },
  {
   "cell_type": "code",
   "execution_count": null,
   "metadata": {},
   "outputs": [],
   "source": []
  },
  {
   "cell_type": "code",
   "execution_count": null,
   "metadata": {},
   "outputs": [],
   "source": []
  }
 ],
 "metadata": {
  "kernelspec": {
   "display_name": "Python 3",
   "language": "python",
   "name": "python3"
  },
  "language_info": {
   "codemirror_mode": {
    "name": "ipython",
    "version": 3
   },
   "file_extension": ".py",
   "mimetype": "text/x-python",
   "name": "python",
   "nbconvert_exporter": "python",
   "pygments_lexer": "ipython3",
   "version": "3.6.7"
  }
 },
 "nbformat": 4,
 "nbformat_minor": 2
}
